{
 "cells": [
  {
   "cell_type": "code",
   "execution_count": 1,
   "metadata": {},
   "outputs": [],
   "source": [
    "from pathlib import Path\n",
    "import shutil\n",
    "import json\n",
    "import os\n",
    "import collections"
   ]
  },
  {
   "cell_type": "code",
   "execution_count": 2,
   "metadata": {},
   "outputs": [
    {
     "name": "stdout",
     "output_type": "stream",
     "text": [
      "[{'id': 0, 'name': 'car'}, {'id': 1, 'name': 'person'}, {'id': 2, 'name': 'truck'}, {'id': 3, 'name': 'bus'}, {'id': 4, 'name': 'bicycle'}, {'id': 5, 'name': 'rider'}, {'id': 6, 'name': 'trailer'}, {'id': 7, 'name': 'motorcycle'}, {'id': 8, 'name': 'caravan'}, {'id': 9, 'name': 'train'}]\n"
     ]
    }
   ],
   "source": [
    "from_file = 'G:/Bdd100k/ins_seg_train.json'    # get from bdd100k instance segmentation dataset -> polygons file\n",
    "save_to = 'G:/Bdd100k/trainSet'   # save path\n",
    "labels_filename = 'bdd100k_train'  # label filename\n",
    "\n",
    "annotations, categories, images = [], [], []\n",
    "ann_list, cat_list, img_list = [], [], []\n",
    " # Create temporary dict\n",
    "img_temp = {}\n",
    "cat_temp = {}\n",
    "\n",
    "cat_id = 0\n",
    "for idx, annotation in enumerate(json.load(open(from_file))):\n",
    "    if annotation['name'] not in img_temp:\n",
    "        img_temp[annotation['name']] = annotation['name'].split('.')[0]\n",
    "        images.append({'file_name' : annotation['name'], 'id' : annotation['name'].split('.')[0]})\n",
    "        \n",
    "    if annotation['labels'] is not None:\n",
    "        for label in annotation['labels']:\n",
    "            if label['category'] not in cat_temp:\n",
    "                cat_temp[label['category']] = cat_id\n",
    "                categories.append({'id' : cat_id, 'name' : label['category']})\n",
    "                cat_id += 1\n",
    "            \n",
    "            box_annotation = {}\n",
    "            box_annotation['category_id'] = cat_temp[label['category']]\n",
    "            box_annotation['image_id'] = img_temp[annotation['name']]\n",
    "            box_annotation['segmentation'] = label['poly2d'][0]['vertices']\n",
    "            annotations.append(box_annotation)\n",
    "coco = {'annotations' : annotations, 'images' : images, 'categories' : categories}\n",
    "\n",
    "if not os.path.exists(save_to):\n",
    "    os.makedirs(save_to)\n",
    "    \n",
    "if Path(save_to).exists() and Path(save_to).is_dir():\n",
    "    shutil.rmtree(save_to)\n",
    "    \n",
    "Path(save_to).mkdir(parents=True, exist_ok=True)\n",
    "Path(save_to + '/label').mkdir(parents=True, exist_ok=True)\n",
    "\n",
    "with open(save_to + '/label/' + labels_filename + '.json', 'w+') as outfile:\n",
    "    json.dump(coco, outfile)\n",
    "    \n",
    "print(coco['categories'])"
   ]
  }
 ],
 "metadata": {
  "kernelspec": {
   "display_name": "Python 3.9.12 ('base')",
   "language": "python",
   "name": "python3"
  },
  "language_info": {
   "codemirror_mode": {
    "name": "ipython",
    "version": 3
   },
   "file_extension": ".py",
   "mimetype": "text/x-python",
   "name": "python",
   "nbconvert_exporter": "python",
   "pygments_lexer": "ipython3",
   "version": "3.9.12"
  },
  "orig_nbformat": 4,
  "vscode": {
   "interpreter": {
    "hash": "16f5b46f222e2a3e8d4adbf7141cae37b71ed37616e60735fa5d1164a1bc3ada"
   }
  }
 },
 "nbformat": 4,
 "nbformat_minor": 2
}
